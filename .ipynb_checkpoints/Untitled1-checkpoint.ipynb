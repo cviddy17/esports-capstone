{
 "cells": [
  {
   "cell_type": "code",
   "execution_count": 1,
   "metadata": {
    "collapsed": true
   },
   "outputs": [],
   "source": [
    "import numpy as np\n",
    "import pandas as pd\n",
    "from bokeh.plotting import figure, output_file, show\n",
    "from bokeh.layouts import gridplot\n",
    "from bokeh.models import ColumnDataSource\n",
    "from bokeh.charts import Histogram, Donut\n",
    "from bokeh.io import output_notebook\n",
    "from bokeh.models.formatters import DatetimeTickFormatter as dttf\n",
    "from sklearn.model_selection import train_test_split\n",
    "from sklearn.linear_model import LinearRegression\n",
    "from sklearn.linear_model import LogisticRegression\n",
    "from sklearn.ensemble import RandomForestClassifier\n",
    "from sklearn.ensemble import GradientBoostingClassifier\n",
    "# from sklearn.ensemble import GradientBoostingRegressor\n",
    "from sklearn.model_selection import cross_val_score\n",
    "from sklearn.metrics import confusion_matrix\n"
   ]
  },
  {
   "cell_type": "code",
   "execution_count": null,
   "metadata": {
    "collapsed": true
   },
   "outputs": [],
   "source": [
    "#bokeh slider widget\n",
    "from bokeh.layouts import widgetbox\n",
    "from bokeh.models.widgets import Slider\n",
    "\n",
    "output_file(\"slider.html\")\n",
    "\n",
    "slider = Slider(start=0, end=10, value=1, step=.1, title=\"Stuff\")\n",
    "\n",
    "show(widgetbox(slider))\n",
    "\n",
    "#bokeh tabs\n",
    "\n",
    "from bokeh.models.widgets import Panel, Tabs\n",
    "output_file(\"slider.html\")\n",
    "\n",
    "p1 = figure(plot_width=300, plot_height=300)\n",
    "p1.circle([1, 2, 3, 4, 5], [6, 7, 2, 4, 5], size=20, color=\"navy\", alpha=0.5)\n",
    "tab1 = Panel(child=p1, title=\"circle\")\n",
    "\n",
    "p2 = figure(plot_width=300, plot_height=300)\n",
    "p2.line([1, 2, 3, 4, 5], [6, 7, 2, 4, 5], line_width=3, color=\"navy\", alpha=0.5)\n",
    "tab2 = Panel(child=p2, title=\"line\")\n",
    "\n",
    "tabs = Tabs(tabs=[ tab1, tab2 ])\n",
    "\n",
    "show(tabs)\n"
   ]
  },
  {
   "cell_type": "code",
   "execution_count": null,
   "metadata": {
    "collapsed": true
   },
   "outputs": [],
   "source": [
    "#dropdown select\n",
    "\n",
    "from bokeh.io import output_file, show\n",
    "from bokeh.layouts import widgetbox\n",
    "from bokeh.models.widgets import Select\n",
    "\n",
    "output_file(\"select.html\")\n",
    "\n",
    "select = Select(title=\"Option:\", value=\"foo\", options=[\"foo\", \"bar\", \"baz\", \"quux\"])\n",
    "\n",
    "\n",
    "show(widgetbox(select))"
   ]
  }
 ],
 "metadata": {
  "kernelspec": {
   "display_name": "Python 3",
   "language": "python",
   "name": "python3"
  },
  "language_info": {
   "codemirror_mode": {
    "name": "ipython",
    "version": 3
   },
   "file_extension": ".py",
   "mimetype": "text/x-python",
   "name": "python",
   "nbconvert_exporter": "python",
   "pygments_lexer": "ipython3",
   "version": "3.6.1"
  }
 },
 "nbformat": 4,
 "nbformat_minor": 2
}
